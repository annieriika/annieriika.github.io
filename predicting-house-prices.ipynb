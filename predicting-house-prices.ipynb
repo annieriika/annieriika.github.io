{
 "cells": [
  {
   "cell_type": "code",
   "execution_count": 1,
   "id": "3842da8b",
   "metadata": {
    "_cell_guid": "b1076dfc-b9ad-4769-8c92-a6c4dae69d19",
    "_uuid": "8f2839f25d086af736a60e9eeb907d3b93b6e0e5",
    "execution": {
     "iopub.execute_input": "2023-01-10T11:32:16.401230Z",
     "iopub.status.busy": "2023-01-10T11:32:16.400712Z",
     "iopub.status.idle": "2023-01-10T11:32:17.341635Z",
     "shell.execute_reply": "2023-01-10T11:32:17.340487Z"
    },
    "papermill": {
     "duration": 0.950063,
     "end_time": "2023-01-10T11:32:17.344652",
     "exception": false,
     "start_time": "2023-01-10T11:32:16.394589",
     "status": "completed"
    },
    "tags": []
   },
   "outputs": [
    {
     "name": "stdout",
     "output_type": "stream",
     "text": [
      "/kaggle/input/house-prices-advanced-regression-techniques/sample_submission.csv\n",
      "/kaggle/input/house-prices-advanced-regression-techniques/data_description.txt\n",
      "/kaggle/input/house-prices-advanced-regression-techniques/train.csv\n",
      "/kaggle/input/house-prices-advanced-regression-techniques/test.csv\n"
     ]
    }
   ],
   "source": [
    "# Imports\n",
    "\n",
    "import numpy as np # linear algebra\n",
    "import pandas as pd # data processing, CSV file I/O (e.g. pd.read_csv)\n",
    "from sklearn.model_selection import train_test_split\n",
    "\n",
    "# Input data files are available in the read-only \"../input/\" directory\n",
    "# For example, running this (by clicking run or pressing Shift+Enter) will list all files under the input directory\n",
    "\n",
    "import os\n",
    "for dirname, _, filenames in os.walk('/kaggle/input'):\n",
    "    for filename in filenames:\n",
    "        print(os.path.join(dirname, filename))\n",
    "\n",
    "# You can write up to 20GB to the current directory (/kaggle/working/) that gets preserved as output when you create a version using \"Save & Run All\" \n",
    "# You can also write temporary files to /kaggle/temp/, but they won't be saved outside of the current session"
   ]
  },
  {
   "cell_type": "code",
   "execution_count": 2,
   "id": "9f16e148",
   "metadata": {
    "execution": {
     "iopub.execute_input": "2023-01-10T11:32:17.353420Z",
     "iopub.status.busy": "2023-01-10T11:32:17.353029Z",
     "iopub.status.idle": "2023-01-10T11:32:17.455404Z",
     "shell.execute_reply": "2023-01-10T11:32:17.454428Z"
    },
    "papermill": {
     "duration": 0.109712,
     "end_time": "2023-01-10T11:32:17.458081",
     "exception": false,
     "start_time": "2023-01-10T11:32:17.348369",
     "status": "completed"
    },
    "tags": []
   },
   "outputs": [],
   "source": [
    "# Read the data\n",
    "X_full = pd.read_csv('/kaggle/input/house-prices-advanced-regression-techniques/train.csv', index_col='Id')\n",
    "X_test = pd.read_csv('/kaggle/input/house-prices-advanced-regression-techniques/test.csv', index_col='Id')\n",
    "\n",
    "# Separate target from predictors\n",
    "y = X_full.SalePrice\n",
    "X = X_full.drop(['SalePrice'], axis=1)\n",
    "\n",
    "# Divide data into training and validation sets\n",
    "X_train_full, X_valid_full, y_train, y_valid = train_test_split(X, y,\n",
    "                                                                train_size=0.8, test_size=0.2,\n",
    "                                                               random_state=0)\n",
    "\n",
    "# Select categorical columns for preprocessing in training data\n",
    "categorical_cols = [col for col in X_train_full.columns\n",
    "                   if X_train_full[col].dtype in ['object']]\n",
    "\n",
    "# Select numerical columns for preprocessing in training data\n",
    "numerical_cols = [col for col in X_train_full.columns\n",
    "                  if X_train_full[col].dtype in ['int64', 'float64']]\n",
    "\n",
    "# Keep selected columns only\n",
    "my_cols = categorical_cols + numerical_cols\n",
    "X_train = X_train_full[my_cols].copy()\n",
    "X_valid = X_valid_full[my_cols].copy()\n"
   ]
  },
  {
   "cell_type": "markdown",
   "id": "5c293536",
   "metadata": {
    "papermill": {
     "duration": 0.003039,
     "end_time": "2023-01-10T11:32:17.464754",
     "exception": false,
     "start_time": "2023-01-10T11:32:17.461715",
     "status": "completed"
    },
    "tags": []
   },
   "source": [
    "### Preprocessing steps"
   ]
  },
  {
   "cell_type": "code",
   "execution_count": 3,
   "id": "956297ac",
   "metadata": {
    "execution": {
     "iopub.execute_input": "2023-01-10T11:32:17.472677Z",
     "iopub.status.busy": "2023-01-10T11:32:17.472301Z",
     "iopub.status.idle": "2023-01-10T11:32:17.606813Z",
     "shell.execute_reply": "2023-01-10T11:32:17.605498Z"
    },
    "papermill": {
     "duration": 0.141561,
     "end_time": "2023-01-10T11:32:17.609602",
     "exception": false,
     "start_time": "2023-01-10T11:32:17.468041",
     "status": "completed"
    },
    "tags": []
   },
   "outputs": [],
   "source": [
    "from sklearn.compose import ColumnTransformer\n",
    "from sklearn.pipeline import Pipeline\n",
    "from sklearn.impute import SimpleImputer\n",
    "from sklearn.preprocessing import OneHotEncoder\n",
    "\n",
    "# Preprocessing for numerical data: filling missing values\n",
    "numerical_transformer = SimpleImputer()\n",
    "\n",
    "# Preprocessing for categorical data: filling missing values & encoding\n",
    "categorical_transformer = Pipeline(steps=[\n",
    "    ('imputer', SimpleImputer(strategy='most_frequent')),\n",
    "    ('onehot', OneHotEncoder(handle_unknown='ignore'))\n",
    "])\n",
    "\n",
    "\n",
    "# Bundle preprocessing for numerical and categorical data\n",
    "preprocessor = ColumnTransformer(\n",
    "                transformers=[\n",
    "                    ('num', numerical_transformer, numerical_cols),\n",
    "                    ('cat', categorical_transformer, categorical_cols)\n",
    "                ])\n",
    "\n",
    "\n"
   ]
  },
  {
   "cell_type": "markdown",
   "id": "fd9219b2",
   "metadata": {
    "papermill": {
     "duration": 0.002941,
     "end_time": "2023-01-10T11:32:17.615862",
     "exception": false,
     "start_time": "2023-01-10T11:32:17.612921",
     "status": "completed"
    },
    "tags": []
   },
   "source": []
  },
  {
   "cell_type": "markdown",
   "id": "b937eb5e",
   "metadata": {
    "papermill": {
     "duration": 0.002786,
     "end_time": "2023-01-10T11:32:17.621931",
     "exception": false,
     "start_time": "2023-01-10T11:32:17.619145",
     "status": "completed"
    },
    "tags": []
   },
   "source": [
    "### Defining the model"
   ]
  },
  {
   "cell_type": "code",
   "execution_count": 4,
   "id": "f0b6546e",
   "metadata": {
    "execution": {
     "iopub.execute_input": "2023-01-10T11:32:17.630384Z",
     "iopub.status.busy": "2023-01-10T11:32:17.629312Z",
     "iopub.status.idle": "2023-01-10T11:32:17.728258Z",
     "shell.execute_reply": "2023-01-10T11:32:17.727123Z"
    },
    "papermill": {
     "duration": 0.105967,
     "end_time": "2023-01-10T11:32:17.730945",
     "exception": false,
     "start_time": "2023-01-10T11:32:17.624978",
     "status": "completed"
    },
    "tags": []
   },
   "outputs": [],
   "source": [
    "from xgboost import XGBRegressor\n",
    "\n",
    "model = XGBRegressor(n_estimators=300, learning_rate=0.1)"
   ]
  },
  {
   "cell_type": "markdown",
   "id": "04315b62",
   "metadata": {
    "papermill": {
     "duration": 0.002947,
     "end_time": "2023-01-10T11:32:17.737193",
     "exception": false,
     "start_time": "2023-01-10T11:32:17.734246",
     "status": "completed"
    },
    "tags": []
   },
   "source": [
    "### Creating and evaluating the Pipeline"
   ]
  },
  {
   "cell_type": "code",
   "execution_count": 5,
   "id": "e1258b5d",
   "metadata": {
    "execution": {
     "iopub.execute_input": "2023-01-10T11:32:17.744956Z",
     "iopub.status.busy": "2023-01-10T11:32:17.744557Z",
     "iopub.status.idle": "2023-01-10T11:32:20.168672Z",
     "shell.execute_reply": "2023-01-10T11:32:20.166816Z"
    },
    "papermill": {
     "duration": 2.431733,
     "end_time": "2023-01-10T11:32:20.172001",
     "exception": false,
     "start_time": "2023-01-10T11:32:17.740268",
     "status": "completed"
    },
    "tags": []
   },
   "outputs": [
    {
     "name": "stdout",
     "output_type": "stream",
     "text": [
      "MAE:  15498.155153039384\n"
     ]
    }
   ],
   "source": [
    "from sklearn.metrics import mean_absolute_error\n",
    "\n",
    "# Bundle preprocessing and model in a pipeline\n",
    "pipeline = Pipeline(steps=[('preprocessor', preprocessor),\n",
    "                           ('model', model)\n",
    "                           ])\n",
    "\n",
    "# Fit the model\n",
    "pipeline.fit(X_train, y_train)\n",
    "\n",
    "# Preprocessing of validation data, making predictions\n",
    "predictions = pipeline.predict(X_valid)\n",
    "\n",
    "# Evaluate the model\n",
    "score = mean_absolute_error(y_valid, predictions)\n",
    "print('MAE: ', score)"
   ]
  },
  {
   "cell_type": "markdown",
   "id": "9909566e",
   "metadata": {
    "papermill": {
     "duration": 0.003685,
     "end_time": "2023-01-10T11:32:20.179863",
     "exception": false,
     "start_time": "2023-01-10T11:32:20.176178",
     "status": "completed"
    },
    "tags": []
   },
   "source": [
    "### Make test predictions"
   ]
  },
  {
   "cell_type": "code",
   "execution_count": 6,
   "id": "7bb1c59b",
   "metadata": {
    "execution": {
     "iopub.execute_input": "2023-01-10T11:32:20.188197Z",
     "iopub.status.busy": "2023-01-10T11:32:20.187725Z",
     "iopub.status.idle": "2023-01-10T11:32:20.308339Z",
     "shell.execute_reply": "2023-01-10T11:32:20.306840Z"
    },
    "papermill": {
     "duration": 0.130228,
     "end_time": "2023-01-10T11:32:20.313505",
     "exception": false,
     "start_time": "2023-01-10T11:32:20.183277",
     "status": "completed"
    },
    "tags": []
   },
   "outputs": [],
   "source": [
    "# Preprocessing of test data, fit model\n",
    "preds_test = pipeline.predict(X_test)\n",
    "\n",
    "\n",
    "# Save test predictions to file\n",
    "output = pd.DataFrame({'Id': X_test.index,\n",
    "                       'SalePrice': preds_test})\n",
    "output.to_csv('submission.csv', index=False)"
   ]
  }
 ],
 "metadata": {
  "kernelspec": {
   "display_name": "Python 3",
   "language": "python",
   "name": "python3"
  },
  "language_info": {
   "codemirror_mode": {
    "name": "ipython",
    "version": 3
   },
   "file_extension": ".py",
   "mimetype": "text/x-python",
   "name": "python",
   "nbconvert_exporter": "python",
   "pygments_lexer": "ipython3",
   "version": "3.7.12"
  },
  "papermill": {
   "default_parameters": {},
   "duration": 12.83937,
   "end_time": "2023-01-10T11:32:21.039143",
   "environment_variables": {},
   "exception": null,
   "input_path": "__notebook__.ipynb",
   "output_path": "__notebook__.ipynb",
   "parameters": {},
   "start_time": "2023-01-10T11:32:08.199773",
   "version": "2.3.4"
  }
 },
 "nbformat": 4,
 "nbformat_minor": 5
}
